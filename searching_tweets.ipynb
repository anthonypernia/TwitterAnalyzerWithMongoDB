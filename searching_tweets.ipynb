{
 "cells": [
  {
   "cell_type": "code",
   "execution_count": 1,
   "metadata": {},
   "outputs": [],
   "source": [
    "import tweepy\n",
    "import json\n",
    "import credentials\n",
    "from MongoConnection import MongoConnection\n",
    "from TwitterConnection import TwitterConnection\n"
   ]
  },
  {
   "cell_type": "markdown",
   "metadata": {},
   "source": [
    "##### Setting Twitter data (From credentials)"
   ]
  },
  {
   "cell_type": "code",
   "execution_count": 2,
   "metadata": {},
   "outputs": [],
   "source": [
    "possible_filter = 'since:2019-01-01 until:2019-12-31'\n",
    "lat = -34.5665124\n",
    "lon = -58.4594343\n",
    "query = 'anthonyperniah'\n",
    "API_KEY = credentials.API_KEY\n",
    "API_KEY_SECRET = credentials.API_KEY_SECRET\n",
    "ACCESS_TOKEN = credentials.ACCESS_TOKEN \n",
    "ACCESS_TOKEN_SECRET = credentials.ACCESS_TOKEN_SECRET\n",
    "twitter_connection = TwitterConnection(API_KEY, API_KEY_SECRET, ACCESS_TOKEN, ACCESS_TOKEN_SECRET)\n",
    "api = twitter_connection.get_api()"
   ]
  },
  {
   "cell_type": "markdown",
   "metadata": {},
   "source": [
    "##### Setting MongoDB data (From credentials)"
   ]
  },
  {
   "cell_type": "code",
   "execution_count": 3,
   "metadata": {},
   "outputs": [],
   "source": [
    "user = credentials.DB_USER\n",
    "password = credentials.DB_PASSWORD\n",
    "db_name = credentials.DB_NAME\n",
    "collection_name = f'tweets_about_{query.strip()}'\n",
    "host= credentials.DB_HOST\n",
    "port = credentials.DB_PORT\n",
    "mongo_connection = MongoConnection(user, password, db_name, collection_name, host, port)\n",
    "conn = mongo_connection.get_connection()"
   ]
  },
  {
   "cell_type": "code",
   "execution_count": 4,
   "metadata": {},
   "outputs": [
    {
     "name": "stdout",
     "output_type": "stream",
     "text": [
      "Mongo Connected\n",
      "Twitter Connected\n",
      "15 tweets inserted\n"
     ]
    }
   ],
   "source": [
    "\n",
    "if conn:\n",
    "    print('Mongo Connected')\n",
    "    if api:\n",
    "        print('Twitter Connected')\n",
    "        twitter_connection.get_tweets_and_save_mongoDB(mongo_connection, query = query, count_limit = 2)\n",
    "    else:\n",
    "        print('Twitter Connection Error')\n",
    "else:\n",
    "    print('Mongo connection error')\n",
    "\n"
   ]
  },
  {
   "cell_type": "code",
   "execution_count": 25,
   "metadata": {},
   "outputs": [
    {
     "name": "stdout",
     "output_type": "stream",
     "text": [
      "2021-12-12\n",
      "2021-12-12\n",
      "2021-12-12\n",
      "2021-12-12\n",
      "2021-12-12\n",
      "2021-12-11\n",
      "2021-12-11\n",
      "2021-12-11\n",
      "2021-12-11\n",
      "2021-12-10\n",
      "2021-12-10\n",
      "2021-12-08\n",
      "2021-12-07\n",
      "2021-12-05\n",
      "2021-12-05\n"
     ]
    }
   ],
   "source": [
    "# import datetime\n",
    "# for tweet in mongo_connection.get_all():\n",
    "#     formated_string_date = datetime.datetime.strptime(tweet['created_at'], '%a %b %d %H:%M:%S %z %Y').strftime('%Y-%m-%d')\n",
    "#     print(formated_string_date)\n"
   ]
  },
  {
   "cell_type": "code",
   "execution_count": null,
   "metadata": {},
   "outputs": [],
   "source": []
  },
  {
   "cell_type": "code",
   "execution_count": null,
   "metadata": {},
   "outputs": [],
   "source": []
  },
  {
   "cell_type": "code",
   "execution_count": null,
   "metadata": {},
   "outputs": [],
   "source": []
  }
 ],
 "metadata": {
  "kernelspec": {
   "display_name": "Python 3",
   "language": "python",
   "name": "python3"
  },
  "language_info": {
   "codemirror_mode": {
    "name": "ipython",
    "version": 3
   },
   "file_extension": ".py",
   "mimetype": "text/x-python",
   "name": "python",
   "nbconvert_exporter": "python",
   "pygments_lexer": "ipython3",
   "version": "3.9.7"
  }
 },
 "nbformat": 4,
 "nbformat_minor": 2
}
