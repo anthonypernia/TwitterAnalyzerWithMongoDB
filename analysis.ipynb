{
 "cells": [
  {
   "cell_type": "code",
   "execution_count": null,
   "metadata": {},
   "outputs": [],
   "source": [
    "import pandas as pd\n",
    "import nltk as nltk\n",
    "import credentials\n",
    "from pymongo import MongoClient\n",
    "from wordcloud import WordCloud \n",
    "import matplotlib.pyplot as plt\n",
    "from utils_functions import transform_text, columns_to_datetime, set_sentiment\n",
    "import re\n",
    "import string\n",
    "from nltk import FreqDist\n",
    "import seaborn as sns"
   ]
  },
  {
   "cell_type": "code",
   "execution_count": null,
   "metadata": {},
   "outputs": [],
   "source": [
    "### Mongo connection\n",
    "conn = MongoClient(credentials.DB_URI)\n",
    "db = conn[credentials.DB_NAME]\n",
    "collection = db[f'{credentials.PREFIX_COLLECTION.strip()}{credentials.QUERY.strip()}'.replace(' ', '_').lower()]\n"
   ]
  },
  {
   "cell_type": "code",
   "execution_count": null,
   "metadata": {},
   "outputs": [],
   "source": [
    "##To see the keys of the data\n",
    "collection.find_one().keys()"
   ]
  },
  {
   "cell_type": "code",
   "execution_count": null,
   "metadata": {},
   "outputs": [],
   "source": [
    "data_tweets = collection.find({}, {'stored_at':1, 'created_at_yyyymmdd':1 , 'retweet_count':1, 'truncated':1, 'full_text':1, 'geo':1})\n",
    "df = pd.DataFrame(list(data_tweets))"
   ]
  },
  {
   "cell_type": "code",
   "execution_count": null,
   "metadata": {},
   "outputs": [],
   "source": [
    "df = columns_to_datetime(df, ['stored_at', 'created_at_yyyymmdd'])\n",
    "df['clean_text'] = df['full_text'].apply(transform_text)"
   ]
  },
  {
   "cell_type": "code",
   "execution_count": null,
   "metadata": {},
   "outputs": [],
   "source": [
    "from textblob import TextBlob\n",
    "def set_sentiment2(text):\n",
    "    sentiment=0\n",
    "    text = str(text)\n",
    "    if text != '':\n",
    "        analysis = TextBlob(text)\n",
    "        if len(analysis)>3:\n",
    "            sentiment = analysis.polarity\n",
    "        else:\n",
    "            sentiment = 0\n",
    "    return sentiment"
   ]
  },
  {
   "cell_type": "code",
   "execution_count": null,
   "metadata": {},
   "outputs": [],
   "source": [
    "df['polarity'] = df['clean_text'].apply(set_sentiment2)"
   ]
  },
  {
   "cell_type": "code",
   "execution_count": null,
   "metadata": {},
   "outputs": [],
   "source": [
    "df['polarity'].describe()\n"
   ]
  },
  {
   "cell_type": "code",
   "execution_count": null,
   "metadata": {},
   "outputs": [],
   "source": [
    "text = ' '.join(df.clean_text)\n",
    "text = text.lower().replace(credentials.QUERY,'')"
   ]
  },
  {
   "cell_type": "code",
   "execution_count": null,
   "metadata": {},
   "outputs": [],
   "source": [
    "wordcloud = WordCloud(width=1024, height=720, background_color='black', min_font_size=14).generate(text)"
   ]
  },
  {
   "cell_type": "code",
   "execution_count": null,
   "metadata": {},
   "outputs": [],
   "source": [
    "plt.figure(figsize=(16,9), facecolor=None)\n",
    "plt.imshow(wordcloud)\n",
    "plt.axis('off')\n",
    "plt.tight_layout(pad=0)\n",
    "plt.savefig('images/a_wordcloud.png')\n",
    "plt.show()"
   ]
  },
  {
   "cell_type": "code",
   "execution_count": null,
   "metadata": {},
   "outputs": [],
   "source": [
    "def tokenice_ngrams(text, ngrams):\n",
    "    text = re.sub('[%s]' % re.escape(string.punctuation), ' ', text)\n",
    "    text = text.replace('  ','')\n",
    "    tokenized = text.split(\" \")\n",
    "    md_bigrams= list(nltk.ngrams(tokenized, ngrams))\n",
    "    return md_bigrams"
   ]
  },
  {
   "cell_type": "code",
   "execution_count": null,
   "metadata": {},
   "outputs": [],
   "source": [
    "fdist_a = FreqDist(tokenice_ngrams(text, 2))\n",
    "fig= plt.figure(figsize=(16,9), facecolor=None)\n",
    "plt.title(f'Bi-Gramas mas usuales en tuits con el topico = {credentials.QUERY}', fontsize=25)\n",
    "plt.xlabel('Bigrams', fontsize=16)\n",
    "plt.ylabel('Counts', fontsize=16)\n",
    "fdist_a.plot(20)\n",
    "fig.savefig('images/a_bigrams_more.png', dpi=fig.dpi)"
   ]
  },
  {
   "cell_type": "code",
   "execution_count": null,
   "metadata": {},
   "outputs": [],
   "source": [
    "fig, ax = plt.subplots()\n",
    "fig.set_size_inches(16, 9)\n",
    "plt.title(f'Polarity tuits of {credentials.QUERY} vs retweet')\n",
    "plt.xlim(0,50)\n",
    "plt.ylim(-1.2,1.2)\n",
    "sns.scatterplot(data=df, x='retweet_count', y=\"polarity\", hue=\"polarity\", legend=False, ax=ax)\n",
    "plt.savefig('images/a_polarity.png')"
   ]
  },
  {
   "cell_type": "code",
   "execution_count": null,
   "metadata": {},
   "outputs": [],
   "source": []
  }
 ],
 "metadata": {
  "interpreter": {
   "hash": "2e30df2b06f1615aef339ec85eedec979dc8586285a100facc8255ba5b0bb89f"
  },
  "kernelspec": {
   "display_name": "Python 3.9.7 64-bit ('venv': venv)",
   "language": "python",
   "name": "python3"
  },
  "language_info": {
   "codemirror_mode": {
    "name": "ipython",
    "version": 3
   },
   "file_extension": ".py",
   "mimetype": "text/x-python",
   "name": "python",
   "nbconvert_exporter": "python",
   "pygments_lexer": "ipython3",
   "version": "3.9.7"
  },
  "orig_nbformat": 4
 },
 "nbformat": 4,
 "nbformat_minor": 2
}
